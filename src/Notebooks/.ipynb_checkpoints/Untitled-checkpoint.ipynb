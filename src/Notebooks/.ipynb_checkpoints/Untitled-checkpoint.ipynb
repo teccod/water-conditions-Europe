{
 "cells": [
  {
   "cell_type": "code",
   "execution_count": 33,
   "id": "40e6d4ae",
   "metadata": {},
   "outputs": [
    {
     "name": "stdout",
     "output_type": "stream",
     "text": [
      "First :  1\n",
      "Second :  0\n"
     ]
    }
   ],
   "source": [
    "import iris\n",
    "\n",
    "first = iris.system.Security.Login(\"_SYSTEM\", \"SYS\")\n",
    "print(\"First : \", first)\n",
    "\n",
    "second = iris.system.Security.Login(\"user\", \"pass\")\n",
    "print(\"Second : \", second)"
   ]
  },
  {
   "cell_type": "code",
   "execution_count": null,
   "id": "d67941e0",
   "metadata": {},
   "outputs": [],
   "source": []
  },
  {
   "cell_type": "code",
   "execution_count": null,
   "id": "d98ca63e",
   "metadata": {},
   "outputs": [],
   "source": []
  },
  {
   "cell_type": "code",
   "execution_count": null,
   "id": "8934545d",
   "metadata": {},
   "outputs": [],
   "source": []
  }
 ],
 "metadata": {
  "kernelspec": {
   "display_name": "IRIS Python",
   "language": "python",
   "name": "irispython"
  },
  "language_info": {
   "codemirror_mode": {
    "name": "ipython",
    "version": 3
   },
   "file_extension": ".py",
   "mimetype": "text/x-python",
   "name": "python",
   "nbconvert_exporter": "python",
   "pygments_lexer": "ipython3",
   "version": "3.8.10"
  }
 },
 "nbformat": 4,
 "nbformat_minor": 5
}
