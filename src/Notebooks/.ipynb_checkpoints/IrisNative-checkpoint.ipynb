{
 "cells": [
  {
   "cell_type": "markdown",
   "id": "1d834ca1",
   "metadata": {},
   "source": [
    "# Import iris native api"
   ]
  },
  {
   "cell_type": "code",
   "execution_count": 1,
   "id": "cfc40280",
   "metadata": {},
   "outputs": [],
   "source": [
    "import irisnative"
   ]
  },
  {
   "cell_type": "markdown",
   "id": "81cba700",
   "metadata": {},
   "source": [
    "# Create database connection and IRIS instance"
   ]
  },
  {
   "cell_type": "code",
   "execution_count": 3,
   "id": "f88a841e",
   "metadata": {},
   "outputs": [],
   "source": [
    "connection = irisnative.createConnection(\"localhost\", 1972, \"USER\", \"superuser\", \"SYS\", sharedmemory = True)\n",
    "myIris = irisnative.createIris(connection)"
   ]
  },
  {
   "cell_type": "markdown",
   "id": "bcd4f5ef",
   "metadata": {},
   "source": [
    "# Fetch Object example"
   ]
  },
  {
   "cell_type": "code",
   "execution_count": 5,
   "id": "b3dfb021",
   "metadata": {},
   "outputs": [
    {
     "name": "stdout",
     "output_type": "stream",
     "text": [
      "ttoto1\n"
     ]
    }
   ],
   "source": [
    "passenger = myIris.classMethodObject(\"Titanic.Table.Passenger\",\"%OpenId\",1)\n",
    "print(passenger.get(\"name\"))"
   ]
  },
  {
   "cell_type": "markdown",
   "id": "cf7ad716",
   "metadata": {},
   "source": [
    "# Play with globals"
   ]
  },
  {
   "cell_type": "code",
   "execution_count": 6,
   "id": "bacefa88",
   "metadata": {},
   "outputs": [
    {
     "name": "stdout",
     "output_type": "stream",
     "text": [
      "hello\n"
     ]
    }
   ],
   "source": [
    "myIris.set(\"hello\",\"myGlobal\")\n",
    "print(myIris.get(\"myGlobal\"))"
   ]
  },
  {
   "cell_type": "code",
   "execution_count": null,
   "id": "8a2c6c74",
   "metadata": {},
   "outputs": [],
   "source": []
  }
 ],
 "metadata": {
  "kernelspec": {
   "display_name": "Python 3 (ipykernel)",
   "language": "python",
   "name": "python3"
  },
  "language_info": {
   "codemirror_mode": {
    "name": "ipython",
    "version": 3
   },
   "file_extension": ".py",
   "mimetype": "text/x-python",
   "name": "python",
   "nbconvert_exporter": "python",
   "pygments_lexer": "ipython3",
   "version": "3.8.10"
  }
 },
 "nbformat": 4,
 "nbformat_minor": 5
}
