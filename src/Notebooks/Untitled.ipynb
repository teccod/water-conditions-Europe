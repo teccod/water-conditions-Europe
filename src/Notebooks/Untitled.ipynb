{
 "cells": [
  {
   "cell_type": "markdown",
   "id": "c58d5702",
   "metadata": {},
   "source": [
    "# IRIS login using python embedded"
   ]
  },
  {
   "cell_type": "code",
   "execution_count": 38,
   "id": "40e6d4ae",
   "metadata": {},
   "outputs": [
    {
     "name": "stdout",
     "output_type": "stream",
     "text": [
      "First :  1\n",
      "Second :  0\n",
      "['Error', 'Global', 'Stdout', '__builtins__', '__cached__', '__doc__', '__file__', '__loader__', '__name__', '__ospath', '__package__', '__spec__', '__syspath', 'check_status', 'cls', 'gref', 'installdir', 'irisbuiltins', 'irisloader', 'lock', 'ref', 'routine', 'sql', 'system', 'tcommit', 'tlevel', 'trollback', 'trollbackone', 'tstart', 'unlock', 'utils']\n"
     ]
    }
   ],
   "source": [
    "import iris\n",
    "\n",
    "first = iris.system.Security.Login(\"_SYSTEM\", \"SYS\")\n",
    "print(\"First : \", first)\n",
    "\n",
    "second = iris.system.Security.Login(\"user\", \"pass\")\n",
    "print(\"Second : \", second)\n",
    "\n",
    "iris.Error = type(\"StandardError\", (object,), {})\n",
    "print(dir(iris))"
   ]
  },
  {
   "cell_type": "code",
   "execution_count": null,
   "id": "aa327645",
   "metadata": {},
   "outputs": [],
   "source": []
  }
 ],
 "metadata": {
  "kernelspec": {
   "display_name": "IRIS Python",
   "language": "python",
   "name": "irispython"
  },
  "language_info": {
   "codemirror_mode": {
    "name": "ipython",
    "version": 3
   },
   "file_extension": ".py",
   "mimetype": "text/x-python",
   "name": "python",
   "nbconvert_exporter": "python",
   "pygments_lexer": "ipython3",
   "version": "3.8.10"
  }
 },
 "nbformat": 4,
 "nbformat_minor": 5
}
